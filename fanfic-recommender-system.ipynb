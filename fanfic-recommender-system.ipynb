{
 "cells": [
  {
   "cell_type": "code",
   "execution_count": 56,
   "id": "3502c690",
   "metadata": {},
   "outputs": [],
   "source": [
    "import numpy as np\n",
    "import pandas as pd"
   ]
  },
  {
   "cell_type": "code",
   "execution_count": 219,
   "id": "71c21cd6",
   "metadata": {},
   "outputs": [],
   "source": [
    "fanfics = pd.read_csv('hpcleanvlarge1.csv')"
   ]
  },
  {
   "cell_type": "code",
   "execution_count": 220,
   "id": "0f150194",
   "metadata": {},
   "outputs": [
    {
     "data": {
      "text/html": [
       "<div>\n",
       "<style scoped>\n",
       "    .dataframe tbody tr th:only-of-type {\n",
       "        vertical-align: middle;\n",
       "    }\n",
       "\n",
       "    .dataframe tbody tr th {\n",
       "        vertical-align: top;\n",
       "    }\n",
       "\n",
       "    .dataframe thead th {\n",
       "        text-align: right;\n",
       "    }\n",
       "</style>\n",
       "<table border=\"1\" class=\"dataframe\">\n",
       "  <thead>\n",
       "    <tr style=\"text-align: right;\">\n",
       "      <th></th>\n",
       "      <th>Chapters</th>\n",
       "      <th>Favs</th>\n",
       "      <th>Follows</th>\n",
       "      <th>Published</th>\n",
       "      <th>Reviews</th>\n",
       "      <th>Updated</th>\n",
       "      <th>Words</th>\n",
       "      <th>author</th>\n",
       "      <th>characters</th>\n",
       "      <th>genre</th>\n",
       "      <th>language</th>\n",
       "      <th>rating</th>\n",
       "      <th>story_link</th>\n",
       "      <th>synopsis</th>\n",
       "      <th>title</th>\n",
       "      <th>published_mmyy</th>\n",
       "      <th>pairing</th>\n",
       "    </tr>\n",
       "  </thead>\n",
       "  <tbody>\n",
       "    <tr>\n",
       "      <th>0</th>\n",
       "      <td>1</td>\n",
       "      <td>2</td>\n",
       "      <td>NaN</td>\n",
       "      <td>12/31/2019</td>\n",
       "      <td>1.0</td>\n",
       "      <td>NaN</td>\n",
       "      <td>6,840</td>\n",
       "      <td>reviews</td>\n",
       "      <td>Sirius B., Remus L., James P., Regulus B.</td>\n",
       "      <td>Angst/Hurt/Comfort</td>\n",
       "      <td>English</td>\n",
       "      <td>T</td>\n",
       "      <td>https://www.fanfiction.net/s/13466909/1/If-You...</td>\n",
       "      <td>Regulus and James aren't happy. They know they...</td>\n",
       "      <td>If You Change Your Mind</td>\n",
       "      <td>12-2019</td>\n",
       "      <td>NaN</td>\n",
       "    </tr>\n",
       "    <tr>\n",
       "      <th>1</th>\n",
       "      <td>1</td>\n",
       "      <td>1</td>\n",
       "      <td>NaN</td>\n",
       "      <td>12/31/2019</td>\n",
       "      <td>NaN</td>\n",
       "      <td>NaN</td>\n",
       "      <td>10,962</td>\n",
       "      <td>JoyI9199</td>\n",
       "      <td>Harry P., Draco M., Narcissa M., Charlie W.</td>\n",
       "      <td>Angst/Drama</td>\n",
       "      <td>English</td>\n",
       "      <td>M</td>\n",
       "      <td>https://www.fanfiction.net/s/13466894/1/Bloody...</td>\n",
       "      <td>When a plot from the Founder's age is revealed...</td>\n",
       "      <td>Bloody Ballgowns</td>\n",
       "      <td>12-2019</td>\n",
       "      <td>NaN</td>\n",
       "    </tr>\n",
       "    <tr>\n",
       "      <th>2</th>\n",
       "      <td>1</td>\n",
       "      <td>3</td>\n",
       "      <td>2</td>\n",
       "      <td>12/31/2019</td>\n",
       "      <td>NaN</td>\n",
       "      <td>NaN</td>\n",
       "      <td>8,592</td>\n",
       "      <td>MoonytheMarauder1</td>\n",
       "      <td>[James P., Regulus B.]</td>\n",
       "      <td>Angst</td>\n",
       "      <td>English</td>\n",
       "      <td>M</td>\n",
       "      <td>https://www.fanfiction.net/s/13466885/1/Nothin...</td>\n",
       "      <td>Regulus Black is supposed to be dead, but he's...</td>\n",
       "      <td>Nothing Left To Do</td>\n",
       "      <td>12-2019</td>\n",
       "      <td>James P., Regulus B.</td>\n",
       "    </tr>\n",
       "    <tr>\n",
       "      <th>3</th>\n",
       "      <td>2</td>\n",
       "      <td>NaN</td>\n",
       "      <td>NaN</td>\n",
       "      <td>12/31/2019</td>\n",
       "      <td>NaN</td>\n",
       "      <td>NaN</td>\n",
       "      <td>7,260</td>\n",
       "      <td>LaviniaKatt</td>\n",
       "      <td>Cedric D.</td>\n",
       "      <td>Romance/Fantasy</td>\n",
       "      <td>English</td>\n",
       "      <td>M</td>\n",
       "      <td>https://www.fanfiction.net/s/13466880/1/Patien...</td>\n",
       "      <td>This is a spin off of Harry Potter taking plac...</td>\n",
       "      <td>Patience is a Virtue</td>\n",
       "      <td>12-2019</td>\n",
       "      <td>NaN</td>\n",
       "    </tr>\n",
       "    <tr>\n",
       "      <th>4</th>\n",
       "      <td>1</td>\n",
       "      <td>4</td>\n",
       "      <td>3</td>\n",
       "      <td>12/31/2019</td>\n",
       "      <td>NaN</td>\n",
       "      <td>NaN</td>\n",
       "      <td>1,529</td>\n",
       "      <td>Rowena-Moon-Moon</td>\n",
       "      <td>NaN</td>\n",
       "      <td>NaN</td>\n",
       "      <td>English</td>\n",
       "      <td>T</td>\n",
       "      <td>https://www.fanfiction.net/s/13466807/1/An-Und...</td>\n",
       "      <td>Harry makes a new discovery and perhaps a few ...</td>\n",
       "      <td>An Understanding</td>\n",
       "      <td>12-2019</td>\n",
       "      <td>NaN</td>\n",
       "    </tr>\n",
       "  </tbody>\n",
       "</table>\n",
       "</div>"
      ],
      "text/plain": [
       "   Chapters Favs Follows    Published  Reviews Updated    Words  \\\n",
       "0         1    2     NaN   12/31/2019      1.0     NaN    6,840   \n",
       "1         1    1     NaN   12/31/2019      NaN     NaN   10,962   \n",
       "2         1    3       2   12/31/2019      NaN     NaN    8,592   \n",
       "3         2  NaN     NaN   12/31/2019      NaN     NaN    7,260   \n",
       "4         1    4       3   12/31/2019      NaN     NaN    1,529   \n",
       "\n",
       "              author                                   characters  \\\n",
       "0            reviews    Sirius B., Remus L., James P., Regulus B.   \n",
       "1           JoyI9199  Harry P., Draco M., Narcissa M., Charlie W.   \n",
       "2  MoonytheMarauder1                       [James P., Regulus B.]   \n",
       "3        LaviniaKatt                                    Cedric D.   \n",
       "4   Rowena-Moon-Moon                                          NaN   \n",
       "\n",
       "                genre language rating  \\\n",
       "0  Angst/Hurt/Comfort  English      T   \n",
       "1         Angst/Drama  English      M   \n",
       "2               Angst  English      M   \n",
       "3     Romance/Fantasy  English      M   \n",
       "4                 NaN  English      T   \n",
       "\n",
       "                                          story_link  \\\n",
       "0  https://www.fanfiction.net/s/13466909/1/If-You...   \n",
       "1  https://www.fanfiction.net/s/13466894/1/Bloody...   \n",
       "2  https://www.fanfiction.net/s/13466885/1/Nothin...   \n",
       "3  https://www.fanfiction.net/s/13466880/1/Patien...   \n",
       "4  https://www.fanfiction.net/s/13466807/1/An-Und...   \n",
       "\n",
       "                                            synopsis                    title  \\\n",
       "0  Regulus and James aren't happy. They know they...  If You Change Your Mind   \n",
       "1  When a plot from the Founder's age is revealed...         Bloody Ballgowns   \n",
       "2  Regulus Black is supposed to be dead, but he's...       Nothing Left To Do   \n",
       "3  This is a spin off of Harry Potter taking plac...     Patience is a Virtue   \n",
       "4  Harry makes a new discovery and perhaps a few ...         An Understanding   \n",
       "\n",
       "  published_mmyy               pairing  \n",
       "0        12-2019                   NaN  \n",
       "1        12-2019                   NaN  \n",
       "2        12-2019  James P., Regulus B.  \n",
       "3        12-2019                   NaN  \n",
       "4        12-2019                   NaN  "
      ]
     },
     "execution_count": 220,
     "metadata": {},
     "output_type": "execute_result"
    }
   ],
   "source": [
    "fanfics.head()"
   ]
  },
  {
   "cell_type": "code",
   "execution_count": 221,
   "id": "6ea253b9",
   "metadata": {},
   "outputs": [
    {
     "data": {
      "text/plain": [
       "(648493, 17)"
      ]
     },
     "execution_count": 221,
     "metadata": {},
     "output_type": "execute_result"
    }
   ],
   "source": [
    "fanfics.shape"
   ]
  },
  {
   "cell_type": "code",
   "execution_count": 222,
   "id": "1e54b7e3",
   "metadata": {},
   "outputs": [
    {
     "name": "stdout",
     "output_type": "stream",
     "text": [
      "<class 'pandas.core.frame.DataFrame'>\n",
      "RangeIndex: 648493 entries, 0 to 648492\n",
      "Data columns (total 17 columns):\n",
      " #   Column          Non-Null Count   Dtype  \n",
      "---  ------          --------------   -----  \n",
      " 0   Chapters        648493 non-null  int64  \n",
      " 1   Favs            576330 non-null  object \n",
      " 2   Follows         505289 non-null  object \n",
      " 3   Published       648493 non-null  object \n",
      " 4   Reviews         596304 non-null  float64\n",
      " 5   Updated         238265 non-null  object \n",
      " 6   Words           648493 non-null  object \n",
      " 7   author          648493 non-null  object \n",
      " 8   characters      585453 non-null  object \n",
      " 9   genre           588566 non-null  object \n",
      " 10  language        648493 non-null  object \n",
      " 11  rating          648493 non-null  object \n",
      " 12  story_link      648493 non-null  object \n",
      " 13  synopsis        648482 non-null  object \n",
      " 14  title           648477 non-null  object \n",
      " 15  published_mmyy  648493 non-null  object \n",
      " 16  pairing         391670 non-null  object \n",
      "dtypes: float64(1), int64(1), object(15)\n",
      "memory usage: 84.1+ MB\n"
     ]
    }
   ],
   "source": [
    "fanfics.info()"
   ]
  },
  {
   "cell_type": "code",
   "execution_count": 225,
   "id": "0a848226",
   "metadata": {},
   "outputs": [
    {
     "data": {
      "text/plain": [
       "author\n",
       "reviews                 354114\n",
       "DarylDixon'sgirl1985       236\n",
       "Lomonaaeren                228\n",
       "everlovingdeer             168\n",
       "Ida59                      160\n",
       "                         ...  \n",
       "MiaLunaAmore                 1\n",
       "Miko.RF                      1\n",
       "gypsythatremains             1\n",
       "Miki-N-Daxxi                 1\n",
       "Ravenclaw's heir             1\n",
       "Name: count, Length: 156280, dtype: int64"
      ]
     },
     "execution_count": 225,
     "metadata": {},
     "output_type": "execute_result"
    }
   ],
   "source": [
    "pd.reset_option('display.max_rows') # put truncation back\n",
    "fanfics['author'].value_counts()\n",
    "\n",
    "# most of the author being \"reviews\" is a dataset problem."
   ]
  },
  {
   "cell_type": "code",
   "execution_count": 226,
   "id": "9b317ba1",
   "metadata": {},
   "outputs": [
    {
     "data": {
      "text/plain": [
       "language\n",
       "English       506057\n",
       "Spanish        51158\n",
       "French         47619\n",
       "Portuguese     21397\n",
       "German         10499\n",
       "Polish          3514\n",
       "Indonesian      3369\n",
       "Swedish          819\n",
       "Dutch            794\n",
       "Italian          630\n",
       "Hungarian        578\n",
       "Russian          562\n",
       "Czech            449\n",
       "Chinese          209\n",
       "Finnish          175\n",
       "Danish            79\n",
       "Hebrew            72\n",
       "Catalan           67\n",
       "Turkish           61\n",
       "Vietnamese        53\n",
       "Slovak            46\n",
       "Norwegian         45\n",
       "Greek             40\n",
       "Latin             32\n",
       "Filipino          24\n",
       "Bulgarian         19\n",
       "Croatian          17\n",
       "Romanian          15\n",
       "Korean            14\n",
       "Afrikaans         12\n",
       "Japanese          11\n",
       "Esperanto         10\n",
       "Serbian            6\n",
       "Arabic             6\n",
       "Icelandic          6\n",
       "Hindi              5\n",
       "Albanian           5\n",
       "Farsi              5\n",
       "Ukrainian          4\n",
       "Estonian           4\n",
       "Malay              3\n",
       "Devanagari         2\n",
       "Thai               1\n",
       "Name: count, dtype: int64"
      ]
     },
     "execution_count": 226,
     "metadata": {},
     "output_type": "execute_result"
    }
   ],
   "source": [
    "fanfics['language'].value_counts()\n",
    "\n",
    "#I want to keep only English language."
   ]
  },
  {
   "cell_type": "code",
   "execution_count": 227,
   "id": "53e08ef2",
   "metadata": {},
   "outputs": [],
   "source": [
    "fanfics = fanfics[fanfics['language']==\"English\"]"
   ]
  },
  {
   "cell_type": "code",
   "execution_count": 228,
   "id": "4785eec1",
   "metadata": {},
   "outputs": [
    {
     "data": {
      "text/plain": [
       "language\n",
       "English    506057\n",
       "Name: count, dtype: int64"
      ]
     },
     "execution_count": 228,
     "metadata": {},
     "output_type": "execute_result"
    }
   ],
   "source": [
    "fanfics['language'].value_counts()"
   ]
  },
  {
   "cell_type": "code",
   "execution_count": 229,
   "id": "6e5c6289",
   "metadata": {},
   "outputs": [
    {
     "data": {
      "text/plain": [
       "rating\n",
       "T     211256\n",
       "K+    112659\n",
       "M     110632\n",
       "K      71510\n",
       "Name: count, dtype: int64"
      ]
     },
     "execution_count": 229,
     "metadata": {},
     "output_type": "execute_result"
    }
   ],
   "source": [
    "fanfics['rating'].value_counts()\n",
    "\n",
    "#I want to remove the M and T rating stories."
   ]
  },
  {
   "cell_type": "code",
   "execution_count": 230,
   "id": "61ef8bb0",
   "metadata": {},
   "outputs": [],
   "source": [
    "fanfics = fanfics[(fanfics['rating'] == \"K\") | (fanfics['rating'] == \"K+\")]"
   ]
  },
  {
   "cell_type": "code",
   "execution_count": 231,
   "id": "2e13914a",
   "metadata": {},
   "outputs": [
    {
     "data": {
      "text/plain": [
       "rating\n",
       "K+    112659\n",
       "K      71510\n",
       "Name: count, dtype: int64"
      ]
     },
     "execution_count": 231,
     "metadata": {},
     "output_type": "execute_result"
    }
   ],
   "source": [
    "fanfics['rating'].value_counts()"
   ]
  },
  {
   "cell_type": "markdown",
   "id": "5cc1a583",
   "metadata": {},
   "source": [
    "### Filtering Fanfics Based on High Favs Count\n",
    "\n",
    "To ensure we're focusing on the most popular fanfics, I want to filter the data to keep only those fanfics that have a high \"Favs\" count. This will allow us to prioritize fanfics that have received more attention and engagement from readers.\n",
    "\n",
    "The \"Favs\" count is a key indicator of popularity, and by setting a threshold, we can keep only those fanfics with a significant number of \"Favs\" while excluding the less popular ones."
   ]
  },
  {
   "cell_type": "code",
   "execution_count": 232,
   "id": "2e4c42d2",
   "metadata": {},
   "outputs": [
    {
     "data": {
      "text/plain": [
       "Favs\n",
       "1      22782\n",
       "2      18441\n",
       "3      14302\n",
       "4      11076\n",
       "5       9089\n",
       "       ...  \n",
       "459        1\n",
       "739        1\n",
       "944        1\n",
       "806        1\n",
       "982        1\n",
       "Name: count, Length: 1130, dtype: int64"
      ]
     },
     "execution_count": 232,
     "metadata": {},
     "output_type": "execute_result"
    }
   ],
   "source": [
    "# pd.set_option('display.max_rows', None)\n",
    "fanfics['Favs'].value_counts()"
   ]
  },
  {
   "cell_type": "code",
   "execution_count": 233,
   "id": "6fa5ffb0",
   "metadata": {},
   "outputs": [
    {
     "ename": "TypeError",
     "evalue": "'>' not supported between instances of 'str' and 'int'",
     "output_type": "error",
     "traceback": [
      "\u001b[1;31m---------------------------------------------------------------------------\u001b[0m",
      "\u001b[1;31mTypeError\u001b[0m                                 Traceback (most recent call last)",
      "Cell \u001b[1;32mIn[233], line 1\u001b[0m\n\u001b[1;32m----> 1\u001b[0m fanfics[fanfics[\u001b[38;5;124m'\u001b[39m\u001b[38;5;124mFavs\u001b[39m\u001b[38;5;124m'\u001b[39m]\u001b[38;5;241m>\u001b[39m\u001b[38;5;241m1000\u001b[39m]\n",
      "File \u001b[1;32m~\\anaconda3\\Lib\\site-packages\\pandas\\core\\ops\\common.py:76\u001b[0m, in \u001b[0;36m_unpack_zerodim_and_defer.<locals>.new_method\u001b[1;34m(self, other)\u001b[0m\n\u001b[0;32m     72\u001b[0m             \u001b[38;5;28;01mreturn\u001b[39;00m \u001b[38;5;28mNotImplemented\u001b[39m\n\u001b[0;32m     74\u001b[0m other \u001b[38;5;241m=\u001b[39m item_from_zerodim(other)\n\u001b[1;32m---> 76\u001b[0m \u001b[38;5;28;01mreturn\u001b[39;00m method(\u001b[38;5;28mself\u001b[39m, other)\n",
      "File \u001b[1;32m~\\anaconda3\\Lib\\site-packages\\pandas\\core\\arraylike.py:56\u001b[0m, in \u001b[0;36mOpsMixin.__gt__\u001b[1;34m(self, other)\u001b[0m\n\u001b[0;32m     54\u001b[0m \u001b[38;5;129m@unpack_zerodim_and_defer\u001b[39m(\u001b[38;5;124m\"\u001b[39m\u001b[38;5;124m__gt__\u001b[39m\u001b[38;5;124m\"\u001b[39m)\n\u001b[0;32m     55\u001b[0m \u001b[38;5;28;01mdef\u001b[39;00m \u001b[38;5;21m__gt__\u001b[39m(\u001b[38;5;28mself\u001b[39m, other):\n\u001b[1;32m---> 56\u001b[0m     \u001b[38;5;28;01mreturn\u001b[39;00m \u001b[38;5;28mself\u001b[39m\u001b[38;5;241m.\u001b[39m_cmp_method(other, operator\u001b[38;5;241m.\u001b[39mgt)\n",
      "File \u001b[1;32m~\\anaconda3\\Lib\\site-packages\\pandas\\core\\series.py:6110\u001b[0m, in \u001b[0;36mSeries._cmp_method\u001b[1;34m(self, other, op)\u001b[0m\n\u001b[0;32m   6107\u001b[0m lvalues \u001b[38;5;241m=\u001b[39m \u001b[38;5;28mself\u001b[39m\u001b[38;5;241m.\u001b[39m_values\n\u001b[0;32m   6108\u001b[0m rvalues \u001b[38;5;241m=\u001b[39m extract_array(other, extract_numpy\u001b[38;5;241m=\u001b[39m\u001b[38;5;28;01mTrue\u001b[39;00m, extract_range\u001b[38;5;241m=\u001b[39m\u001b[38;5;28;01mTrue\u001b[39;00m)\n\u001b[1;32m-> 6110\u001b[0m res_values \u001b[38;5;241m=\u001b[39m ops\u001b[38;5;241m.\u001b[39mcomparison_op(lvalues, rvalues, op)\n\u001b[0;32m   6112\u001b[0m \u001b[38;5;28;01mreturn\u001b[39;00m \u001b[38;5;28mself\u001b[39m\u001b[38;5;241m.\u001b[39m_construct_result(res_values, name\u001b[38;5;241m=\u001b[39mres_name)\n",
      "File \u001b[1;32m~\\anaconda3\\Lib\\site-packages\\pandas\\core\\ops\\array_ops.py:344\u001b[0m, in \u001b[0;36mcomparison_op\u001b[1;34m(left, right, op)\u001b[0m\n\u001b[0;32m    341\u001b[0m     \u001b[38;5;28;01mreturn\u001b[39;00m invalid_comparison(lvalues, rvalues, op)\n\u001b[0;32m    343\u001b[0m \u001b[38;5;28;01melif\u001b[39;00m lvalues\u001b[38;5;241m.\u001b[39mdtype \u001b[38;5;241m==\u001b[39m \u001b[38;5;28mobject\u001b[39m \u001b[38;5;129;01mor\u001b[39;00m \u001b[38;5;28misinstance\u001b[39m(rvalues, \u001b[38;5;28mstr\u001b[39m):\n\u001b[1;32m--> 344\u001b[0m     res_values \u001b[38;5;241m=\u001b[39m comp_method_OBJECT_ARRAY(op, lvalues, rvalues)\n\u001b[0;32m    346\u001b[0m \u001b[38;5;28;01melse\u001b[39;00m:\n\u001b[0;32m    347\u001b[0m     res_values \u001b[38;5;241m=\u001b[39m _na_arithmetic_op(lvalues, rvalues, op, is_cmp\u001b[38;5;241m=\u001b[39m\u001b[38;5;28;01mTrue\u001b[39;00m)\n",
      "File \u001b[1;32m~\\anaconda3\\Lib\\site-packages\\pandas\\core\\ops\\array_ops.py:129\u001b[0m, in \u001b[0;36mcomp_method_OBJECT_ARRAY\u001b[1;34m(op, x, y)\u001b[0m\n\u001b[0;32m    127\u001b[0m     result \u001b[38;5;241m=\u001b[39m libops\u001b[38;5;241m.\u001b[39mvec_compare(x\u001b[38;5;241m.\u001b[39mravel(), y\u001b[38;5;241m.\u001b[39mravel(), op)\n\u001b[0;32m    128\u001b[0m \u001b[38;5;28;01melse\u001b[39;00m:\n\u001b[1;32m--> 129\u001b[0m     result \u001b[38;5;241m=\u001b[39m libops\u001b[38;5;241m.\u001b[39mscalar_compare(x\u001b[38;5;241m.\u001b[39mravel(), y, op)\n\u001b[0;32m    130\u001b[0m \u001b[38;5;28;01mreturn\u001b[39;00m result\u001b[38;5;241m.\u001b[39mreshape(x\u001b[38;5;241m.\u001b[39mshape)\n",
      "File \u001b[1;32mops.pyx:107\u001b[0m, in \u001b[0;36mpandas._libs.ops.scalar_compare\u001b[1;34m()\u001b[0m\n",
      "\u001b[1;31mTypeError\u001b[0m: '>' not supported between instances of 'str' and 'int'"
     ]
    }
   ],
   "source": [
    "fanfics[fanfics['Favs']>1000]"
   ]
  },
  {
   "cell_type": "code",
   "execution_count": 234,
   "id": "2e0a1b4e",
   "metadata": {},
   "outputs": [],
   "source": [
    "fanfics['Favs'] = pd.to_numeric(fanfics['Favs'], errors='coerce')\n",
    "\n",
    "fanfics = fanfics[fanfics['Favs'] > 50]"
   ]
  },
  {
   "cell_type": "code",
   "execution_count": 235,
   "id": "100f1579",
   "metadata": {},
   "outputs": [
    {
     "name": "stdout",
     "output_type": "stream",
     "text": [
      "<class 'pandas.core.frame.DataFrame'>\n",
      "Index: 12382 entries, 430 to 648426\n",
      "Data columns (total 17 columns):\n",
      " #   Column          Non-Null Count  Dtype  \n",
      "---  ------          --------------  -----  \n",
      " 0   Chapters        12382 non-null  int64  \n",
      " 1   Favs            12382 non-null  float64\n",
      " 2   Follows         12380 non-null  object \n",
      " 3   Published       12382 non-null  object \n",
      " 4   Reviews         12382 non-null  float64\n",
      " 5   Updated         4619 non-null   object \n",
      " 6   Words           12382 non-null  object \n",
      " 7   author          12382 non-null  object \n",
      " 8   characters      11830 non-null  object \n",
      " 9   genre           11198 non-null  object \n",
      " 10  language        12382 non-null  object \n",
      " 11  rating          12382 non-null  object \n",
      " 12  story_link      12382 non-null  object \n",
      " 13  synopsis        12382 non-null  object \n",
      " 14  title           12382 non-null  object \n",
      " 15  published_mmyy  12382 non-null  object \n",
      " 16  pairing         8466 non-null   object \n",
      "dtypes: float64(2), int64(1), object(14)\n",
      "memory usage: 1.7+ MB\n"
     ]
    }
   ],
   "source": [
    "fanfics.info()"
   ]
  },
  {
   "cell_type": "code",
   "execution_count": 236,
   "id": "063f662b",
   "metadata": {},
   "outputs": [],
   "source": [
    "fanfics = fanfics[['author','characters','genre','rating','synopsis','title','pairing']]"
   ]
  },
  {
   "cell_type": "code",
   "execution_count": 237,
   "id": "95cdcc39",
   "metadata": {},
   "outputs": [
    {
     "data": {
      "text/html": [
       "<div>\n",
       "<style scoped>\n",
       "    .dataframe tbody tr th:only-of-type {\n",
       "        vertical-align: middle;\n",
       "    }\n",
       "\n",
       "    .dataframe tbody tr th {\n",
       "        vertical-align: top;\n",
       "    }\n",
       "\n",
       "    .dataframe thead th {\n",
       "        text-align: right;\n",
       "    }\n",
       "</style>\n",
       "<table border=\"1\" class=\"dataframe\">\n",
       "  <thead>\n",
       "    <tr style=\"text-align: right;\">\n",
       "      <th></th>\n",
       "      <th>author</th>\n",
       "      <th>characters</th>\n",
       "      <th>genre</th>\n",
       "      <th>rating</th>\n",
       "      <th>synopsis</th>\n",
       "      <th>title</th>\n",
       "      <th>pairing</th>\n",
       "    </tr>\n",
       "  </thead>\n",
       "  <tbody>\n",
       "    <tr>\n",
       "      <th>430</th>\n",
       "      <td>reviews</td>\n",
       "      <td>Voldemort, Tom R. Jr., OC</td>\n",
       "      <td>Family</td>\n",
       "      <td>K+</td>\n",
       "      <td>In which Tom M. Riddle Jr grew up in a loving ...</td>\n",
       "      <td>House of Luxventi</td>\n",
       "      <td>NaN</td>\n",
       "    </tr>\n",
       "    <tr>\n",
       "      <th>487</th>\n",
       "      <td>reviews</td>\n",
       "      <td>[Severus S., Harry P.]</td>\n",
       "      <td>Romance/Hurt/Comfort</td>\n",
       "      <td>K+</td>\n",
       "      <td>Harry wakes up the morning of his 17th birthda...</td>\n",
       "      <td>The Bubbling Cauldron</td>\n",
       "      <td>Severus S., Harry P.</td>\n",
       "    </tr>\n",
       "    <tr>\n",
       "      <th>646</th>\n",
       "      <td>reviews</td>\n",
       "      <td>Harry P., Hermione G.</td>\n",
       "      <td>Romance/Friendship</td>\n",
       "      <td>K+</td>\n",
       "      <td>Harry Potter was young when he first met Hermi...</td>\n",
       "      <td>Kiss on the Balcony</td>\n",
       "      <td>NaN</td>\n",
       "    </tr>\n",
       "    <tr>\n",
       "      <th>790</th>\n",
       "      <td>Hemlockconium</td>\n",
       "      <td>Harry P., Sirius B., Remus L., OC</td>\n",
       "      <td>Adventure/Friendship</td>\n",
       "      <td>K+</td>\n",
       "      <td>When Sirius Black escapes from Azkaban, the fi...</td>\n",
       "      <td>Kali Black and the Prisoner of Azkaban</td>\n",
       "      <td>NaN</td>\n",
       "    </tr>\n",
       "    <tr>\n",
       "      <th>926</th>\n",
       "      <td>reviews</td>\n",
       "      <td>[Harry P., Hermione G.]</td>\n",
       "      <td>Romance</td>\n",
       "      <td>K+</td>\n",
       "      <td>\"It was long after she fell asleep when he cou...</td>\n",
       "      <td>Sleeping Habits</td>\n",
       "      <td>Harry P., Hermione G.</td>\n",
       "    </tr>\n",
       "  </tbody>\n",
       "</table>\n",
       "</div>"
      ],
      "text/plain": [
       "            author                         characters                 genre  \\\n",
       "430        reviews          Voldemort, Tom R. Jr., OC                Family   \n",
       "487        reviews             [Severus S., Harry P.]  Romance/Hurt/Comfort   \n",
       "646        reviews              Harry P., Hermione G.    Romance/Friendship   \n",
       "790  Hemlockconium  Harry P., Sirius B., Remus L., OC  Adventure/Friendship   \n",
       "926        reviews            [Harry P., Hermione G.]               Romance   \n",
       "\n",
       "    rating                                           synopsis  \\\n",
       "430     K+  In which Tom M. Riddle Jr grew up in a loving ...   \n",
       "487     K+  Harry wakes up the morning of his 17th birthda...   \n",
       "646     K+  Harry Potter was young when he first met Hermi...   \n",
       "790     K+  When Sirius Black escapes from Azkaban, the fi...   \n",
       "926     K+  \"It was long after she fell asleep when he cou...   \n",
       "\n",
       "                                      title                pairing  \n",
       "430                       House of Luxventi                    NaN  \n",
       "487                   The Bubbling Cauldron   Severus S., Harry P.  \n",
       "646                     Kiss on the Balcony                    NaN  \n",
       "790  Kali Black and the Prisoner of Azkaban                    NaN  \n",
       "926                         Sleeping Habits  Harry P., Hermione G.  "
      ]
     },
     "execution_count": 237,
     "metadata": {},
     "output_type": "execute_result"
    }
   ],
   "source": [
    "fanfics.head()"
   ]
  },
  {
   "cell_type": "code",
   "execution_count": 238,
   "id": "691d55be",
   "metadata": {},
   "outputs": [
    {
     "data": {
      "text/plain": [
       "author           0\n",
       "characters     552\n",
       "genre         1184\n",
       "rating           0\n",
       "synopsis         0\n",
       "title            0\n",
       "pairing       3916\n",
       "dtype: int64"
      ]
     },
     "execution_count": 238,
     "metadata": {},
     "output_type": "execute_result"
    }
   ],
   "source": [
    "fanfics.isnull().sum()"
   ]
  },
  {
   "cell_type": "markdown",
   "id": "5ef726a6",
   "metadata": {},
   "source": [
    "### Handling Missing Data\n",
    "\n",
    "Initially, I planned to drop the \"pairing\" column entirely due to its high number of null values and for the other columns with missing data, just drop the rows with missing data. However, after considering the need to reduce the dataset size for memory efficiency, I've decided to remove any rows with NaN values, including those in the \"pairing\" column. This approach ensures a more manageable dataset without losing too much valuable information."
   ]
  },
  {
   "cell_type": "code",
   "execution_count": 239,
   "id": "955b72df",
   "metadata": {},
   "outputs": [],
   "source": [
    "# fanfics.drop('pairing', axis=1, inplace=True)"
   ]
  },
  {
   "cell_type": "code",
   "execution_count": 240,
   "id": "b8473abb",
   "metadata": {},
   "outputs": [],
   "source": [
    "fanfics.dropna(inplace=True)"
   ]
  },
  {
   "cell_type": "code",
   "execution_count": 241,
   "id": "f1eaa7eb",
   "metadata": {},
   "outputs": [
    {
     "data": {
      "text/plain": [
       "author        0\n",
       "characters    0\n",
       "genre         0\n",
       "rating        0\n",
       "synopsis      0\n",
       "title         0\n",
       "pairing       0\n",
       "dtype: int64"
      ]
     },
     "execution_count": 241,
     "metadata": {},
     "output_type": "execute_result"
    }
   ],
   "source": [
    "fanfics.isnull().sum()"
   ]
  },
  {
   "cell_type": "code",
   "execution_count": 242,
   "id": "03477db0",
   "metadata": {},
   "outputs": [
    {
     "data": {
      "text/plain": [
       "9"
      ]
     },
     "execution_count": 242,
     "metadata": {},
     "output_type": "execute_result"
    }
   ],
   "source": [
    "fanfics.duplicated().sum()"
   ]
  },
  {
   "cell_type": "code",
   "execution_count": 243,
   "id": "f59e1c95",
   "metadata": {},
   "outputs": [],
   "source": [
    "fanfics.drop_duplicates(inplace=True)"
   ]
  },
  {
   "cell_type": "code",
   "execution_count": 244,
   "id": "af41c68b",
   "metadata": {},
   "outputs": [
    {
     "data": {
      "text/plain": [
       "0"
      ]
     },
     "execution_count": 244,
     "metadata": {},
     "output_type": "execute_result"
    }
   ],
   "source": [
    "fanfics.duplicated().sum()"
   ]
  },
  {
   "cell_type": "code",
   "execution_count": 245,
   "id": "aa58234a",
   "metadata": {},
   "outputs": [
    {
     "name": "stdout",
     "output_type": "stream",
     "text": [
      "<class 'pandas.core.frame.DataFrame'>\n",
      "Index: 7756 entries, 487 to 648426\n",
      "Data columns (total 7 columns):\n",
      " #   Column      Non-Null Count  Dtype \n",
      "---  ------      --------------  ----- \n",
      " 0   author      7756 non-null   object\n",
      " 1   characters  7756 non-null   object\n",
      " 2   genre       7756 non-null   object\n",
      " 3   rating      7756 non-null   object\n",
      " 4   synopsis    7756 non-null   object\n",
      " 5   title       7756 non-null   object\n",
      " 6   pairing     7756 non-null   object\n",
      "dtypes: object(7)\n",
      "memory usage: 484.8+ KB\n"
     ]
    }
   ],
   "source": [
    "fanfics.info()"
   ]
  },
  {
   "cell_type": "code",
   "execution_count": 246,
   "id": "07b98cbc",
   "metadata": {},
   "outputs": [
    {
     "data": {
      "text/plain": [
       "author\n",
       "reviews             5065\n",
       "Teddylonglong         18\n",
       "Harpygirl24           11\n",
       "Snapegirlkmf          11\n",
       "gredandforgerock      10\n",
       "                    ... \n",
       "TayaCurragh            1\n",
       "LittleRose13           1\n",
       "SwissMiss1             1\n",
       "Pinky Brown            1\n",
       "OwlishArgento          1\n",
       "Name: count, Length: 2107, dtype: int64"
      ]
     },
     "execution_count": 246,
     "metadata": {},
     "output_type": "execute_result"
    }
   ],
   "source": [
    "fanfics['author'].value_counts()"
   ]
  },
  {
   "cell_type": "markdown",
   "id": "623f5e33",
   "metadata": {},
   "source": [
    "### Dropping the \"Author\" Field\n",
    "\n",
    "Upon examining the \"author\" field, I noticed that 71% of the entries are labeled as \"reviews,\" which doesn't provide much meaningful information. Given this, I have decided to drop the \"author\" field from the dataset to streamline the data and focus on more relevant features."
   ]
  },
  {
   "cell_type": "code",
   "execution_count": 247,
   "id": "f498dac3",
   "metadata": {},
   "outputs": [],
   "source": [
    "fanfics.drop(columns = \"author\", inplace=True)"
   ]
  },
  {
   "cell_type": "code",
   "execution_count": 248,
   "id": "b024e04d",
   "metadata": {},
   "outputs": [
    {
     "name": "stdout",
     "output_type": "stream",
     "text": [
      "<class 'pandas.core.frame.DataFrame'>\n",
      "Index: 7756 entries, 487 to 648426\n",
      "Data columns (total 6 columns):\n",
      " #   Column      Non-Null Count  Dtype \n",
      "---  ------      --------------  ----- \n",
      " 0   characters  7756 non-null   object\n",
      " 1   genre       7756 non-null   object\n",
      " 2   rating      7756 non-null   object\n",
      " 3   synopsis    7756 non-null   object\n",
      " 4   title       7756 non-null   object\n",
      " 5   pairing     7756 non-null   object\n",
      "dtypes: object(6)\n",
      "memory usage: 424.2+ KB\n"
     ]
    }
   ],
   "source": [
    "fanfics.info()"
   ]
  },
  {
   "cell_type": "code",
   "execution_count": 249,
   "id": "379cba03",
   "metadata": {},
   "outputs": [
    {
     "data": {
      "text/html": [
       "<div>\n",
       "<style scoped>\n",
       "    .dataframe tbody tr th:only-of-type {\n",
       "        vertical-align: middle;\n",
       "    }\n",
       "\n",
       "    .dataframe tbody tr th {\n",
       "        vertical-align: top;\n",
       "    }\n",
       "\n",
       "    .dataframe thead th {\n",
       "        text-align: right;\n",
       "    }\n",
       "</style>\n",
       "<table border=\"1\" class=\"dataframe\">\n",
       "  <thead>\n",
       "    <tr style=\"text-align: right;\">\n",
       "      <th></th>\n",
       "      <th>characters</th>\n",
       "      <th>genre</th>\n",
       "      <th>rating</th>\n",
       "      <th>synopsis</th>\n",
       "      <th>title</th>\n",
       "      <th>pairing</th>\n",
       "    </tr>\n",
       "  </thead>\n",
       "  <tbody>\n",
       "    <tr>\n",
       "      <th>487</th>\n",
       "      <td>[Severus S., Harry P.]</td>\n",
       "      <td>Romance/Hurt/Comfort</td>\n",
       "      <td>K+</td>\n",
       "      <td>Harry wakes up the morning of his 17th birthda...</td>\n",
       "      <td>The Bubbling Cauldron</td>\n",
       "      <td>Severus S., Harry P.</td>\n",
       "    </tr>\n",
       "    <tr>\n",
       "      <th>926</th>\n",
       "      <td>[Harry P., Hermione G.]</td>\n",
       "      <td>Romance</td>\n",
       "      <td>K+</td>\n",
       "      <td>\"It was long after she fell asleep when he cou...</td>\n",
       "      <td>Sleeping Habits</td>\n",
       "      <td>Harry P., Hermione G.</td>\n",
       "    </tr>\n",
       "    <tr>\n",
       "      <th>1385</th>\n",
       "      <td>[Harry P., Daphne G.]</td>\n",
       "      <td>Family/Romance</td>\n",
       "      <td>K</td>\n",
       "      <td>It's the summer before Harry's fourth year in ...</td>\n",
       "      <td>Harry Potter: The Love Contract</td>\n",
       "      <td>Harry P., Daphne G.</td>\n",
       "    </tr>\n",
       "    <tr>\n",
       "      <th>1726</th>\n",
       "      <td>[Harry P., Theodore N.]</td>\n",
       "      <td>Romance/Angst</td>\n",
       "      <td>K+</td>\n",
       "      <td>HPTN pre-slash. Theodore is almost embarrassed...</td>\n",
       "      <td>A Crystal Hope</td>\n",
       "      <td>Harry P., Theodore N.</td>\n",
       "    </tr>\n",
       "    <tr>\n",
       "      <th>1883</th>\n",
       "      <td>[Draco M., Hermione G.] [Luna L., Theodore N.]</td>\n",
       "      <td>Romance/Humor</td>\n",
       "      <td>K+</td>\n",
       "      <td>It's been ten years since Hermione graduated f...</td>\n",
       "      <td>My Missus</td>\n",
       "      <td>Draco M., Hermione G.</td>\n",
       "    </tr>\n",
       "  </tbody>\n",
       "</table>\n",
       "</div>"
      ],
      "text/plain": [
       "                                          characters                 genre  \\\n",
       "487                           [Severus S., Harry P.]  Romance/Hurt/Comfort   \n",
       "926                          [Harry P., Hermione G.]               Romance   \n",
       "1385                           [Harry P., Daphne G.]        Family/Romance   \n",
       "1726                         [Harry P., Theodore N.]         Romance/Angst   \n",
       "1883  [Draco M., Hermione G.] [Luna L., Theodore N.]         Romance/Humor   \n",
       "\n",
       "     rating                                           synopsis  \\\n",
       "487      K+  Harry wakes up the morning of his 17th birthda...   \n",
       "926      K+  \"It was long after she fell asleep when he cou...   \n",
       "1385      K  It's the summer before Harry's fourth year in ...   \n",
       "1726     K+  HPTN pre-slash. Theodore is almost embarrassed...   \n",
       "1883     K+  It's been ten years since Hermione graduated f...   \n",
       "\n",
       "                                title                pairing  \n",
       "487             The Bubbling Cauldron   Severus S., Harry P.  \n",
       "926                   Sleeping Habits  Harry P., Hermione G.  \n",
       "1385  Harry Potter: The Love Contract    Harry P., Daphne G.  \n",
       "1726                   A Crystal Hope  Harry P., Theodore N.  \n",
       "1883                        My Missus  Draco M., Hermione G.  "
      ]
     },
     "execution_count": 249,
     "metadata": {},
     "output_type": "execute_result"
    }
   ],
   "source": [
    "fanfics.head()"
   ]
  },
  {
   "cell_type": "markdown",
   "id": "20502608",
   "metadata": {},
   "source": [
    "### Removing a Genre\n",
    "\n",
    "To further reduce the size of the dataset, I will remove the \"Romance\" genre, along with any genres that include \"romance\" in their label, such as \"Romance/Friendship\". This will help focus the dataset on other genres and streamline the analysis."
   ]
  },
  {
   "cell_type": "code",
   "execution_count": 250,
   "id": "0a3c6911",
   "metadata": {},
   "outputs": [
    {
     "data": {
      "text/plain": [
       "genre\n",
       "Romance                1203\n",
       "Romance/Humor          1025\n",
       "Humor                   598\n",
       "Humor/Romance           468\n",
       "Family                  316\n",
       "                       ... \n",
       "Fantasy/Suspense          1\n",
       "Suspense/Fantasy          1\n",
       "Horror/Hurt/Comfort       1\n",
       "Supernatural/Horror       1\n",
       "Suspense/Humor            1\n",
       "Name: count, Length: 198, dtype: int64"
      ]
     },
     "execution_count": 250,
     "metadata": {},
     "output_type": "execute_result"
    }
   ],
   "source": [
    "fanfics['genre'].value_counts()"
   ]
  },
  {
   "cell_type": "code",
   "execution_count": 251,
   "id": "b0c97bab",
   "metadata": {},
   "outputs": [
    {
     "data": {
      "text/plain": [
       "genre\n",
       "Romance                1203\n",
       "Romance/Humor          1025\n",
       "Humor                   598\n",
       "Humor/Romance           468\n",
       "Family                  316\n",
       "                       ... \n",
       "Fantasy/Suspense          1\n",
       "Suspense/Fantasy          1\n",
       "Horror/Hurt/Comfort       1\n",
       "Supernatural/Horror       1\n",
       "Suspense/Humor            1\n",
       "Name: count, Length: 198, dtype: int64"
      ]
     },
     "execution_count": 251,
     "metadata": {},
     "output_type": "execute_result"
    }
   ],
   "source": [
    "# pd.set_option('display.max_rows', None) # remove truncation in display of rows\n",
    "fanfics['genre'].value_counts()"
   ]
  },
  {
   "cell_type": "code",
   "execution_count": 252,
   "id": "259c2adb",
   "metadata": {},
   "outputs": [],
   "source": [
    "pd.reset_option('display.max_rows') # put truncation back"
   ]
  },
  {
   "cell_type": "code",
   "execution_count": 253,
   "id": "e43dc465",
   "metadata": {},
   "outputs": [],
   "source": [
    "fanfics = fanfics[~fanfics['genre'].str.contains('Romance', case=False, na=False)]"
   ]
  },
  {
   "cell_type": "code",
   "execution_count": 254,
   "id": "36252980",
   "metadata": {},
   "outputs": [
    {
     "data": {
      "text/plain": [
       "genre\n",
       "Humor                  598\n",
       "Family                 316\n",
       "Drama                  155\n",
       "Angst                  143\n",
       "Family/Hurt/Comfort    132\n",
       "                      ... \n",
       "Fantasy/Suspense         1\n",
       "Suspense/Fantasy         1\n",
       "Horror/Hurt/Comfort      1\n",
       "Supernatural/Horror      1\n",
       "Suspense/Humor           1\n",
       "Name: count, Length: 163, dtype: int64"
      ]
     },
     "execution_count": 254,
     "metadata": {},
     "output_type": "execute_result"
    }
   ],
   "source": [
    "fanfics['genre'].value_counts()"
   ]
  },
  {
   "cell_type": "code",
   "execution_count": 255,
   "id": "05aa8db3",
   "metadata": {},
   "outputs": [
    {
     "name": "stdout",
     "output_type": "stream",
     "text": [
      "<class 'pandas.core.frame.DataFrame'>\n",
      "Index: 3376 entries, 6123 to 648426\n",
      "Data columns (total 6 columns):\n",
      " #   Column      Non-Null Count  Dtype \n",
      "---  ------      --------------  ----- \n",
      " 0   characters  3376 non-null   object\n",
      " 1   genre       3376 non-null   object\n",
      " 2   rating      3376 non-null   object\n",
      " 3   synopsis    3376 non-null   object\n",
      " 4   title       3376 non-null   object\n",
      " 5   pairing     3376 non-null   object\n",
      "dtypes: object(6)\n",
      "memory usage: 184.6+ KB\n"
     ]
    }
   ],
   "source": [
    "fanfics.info()"
   ]
  },
  {
   "cell_type": "code",
   "execution_count": 256,
   "id": "6ed3ba71",
   "metadata": {},
   "outputs": [
    {
     "data": {
      "text/html": [
       "<div>\n",
       "<style scoped>\n",
       "    .dataframe tbody tr th:only-of-type {\n",
       "        vertical-align: middle;\n",
       "    }\n",
       "\n",
       "    .dataframe tbody tr th {\n",
       "        vertical-align: top;\n",
       "    }\n",
       "\n",
       "    .dataframe thead th {\n",
       "        text-align: right;\n",
       "    }\n",
       "</style>\n",
       "<table border=\"1\" class=\"dataframe\">\n",
       "  <thead>\n",
       "    <tr style=\"text-align: right;\">\n",
       "      <th></th>\n",
       "      <th>characters</th>\n",
       "      <th>genre</th>\n",
       "      <th>rating</th>\n",
       "      <th>synopsis</th>\n",
       "      <th>title</th>\n",
       "      <th>pairing</th>\n",
       "    </tr>\n",
       "  </thead>\n",
       "  <tbody>\n",
       "    <tr>\n",
       "      <th>6123</th>\n",
       "      <td>[Harry P., Ginny W.]</td>\n",
       "      <td>Friendship/Hurt/Comfort</td>\n",
       "      <td>K</td>\n",
       "      <td>From an early age Ginny feels a close connecti...</td>\n",
       "      <td>Rituals</td>\n",
       "      <td>Harry P., Ginny W.</td>\n",
       "    </tr>\n",
       "    <tr>\n",
       "      <th>10468</th>\n",
       "      <td>[Harry P., Ginny W.] [Ron W., Hermione G.]</td>\n",
       "      <td>Friendship/Family</td>\n",
       "      <td>K</td>\n",
       "      <td>His best mate would do anything for him, he wa...</td>\n",
       "      <td>My One Good Leg</td>\n",
       "      <td>Harry P., Ginny W.</td>\n",
       "    </tr>\n",
       "    <tr>\n",
       "      <th>11095</th>\n",
       "      <td>[Hermione G., Draco M.]</td>\n",
       "      <td>Friendship/Hurt/Comfort</td>\n",
       "      <td>K</td>\n",
       "      <td>When Draco Malfoy's sixth birthday doesn't go ...</td>\n",
       "      <td>Dandelions and Birthday Blues</td>\n",
       "      <td>Hermione G., Draco M.</td>\n",
       "    </tr>\n",
       "    <tr>\n",
       "      <th>13257</th>\n",
       "      <td>[Hermione G., Draco M.] Harry P., Ron W.</td>\n",
       "      <td>Humor/Friendship</td>\n",
       "      <td>K</td>\n",
       "      <td>COMPLETE: Is ten years after the end of the Se...</td>\n",
       "      <td>Wormholed</td>\n",
       "      <td>Hermione G., Draco M.</td>\n",
       "    </tr>\n",
       "    <tr>\n",
       "      <th>14074</th>\n",
       "      <td>[Hermione G., Draco M.] George W., Charlie W.</td>\n",
       "      <td>Family/Hurt/Comfort</td>\n",
       "      <td>K+</td>\n",
       "      <td>ONE SHOT: Hermione wasn't meant to be alone. S...</td>\n",
       "      <td>Horntails and Heartbreak</td>\n",
       "      <td>Hermione G., Draco M.</td>\n",
       "    </tr>\n",
       "    <tr>\n",
       "      <th>14513</th>\n",
       "      <td>[Hermione G., Cedric D.] [Neville L., Luna L.]</td>\n",
       "      <td>Adventure</td>\n",
       "      <td>K+</td>\n",
       "      <td>Darkness and light. Wrong or right. Join Harry...</td>\n",
       "      <td>The Shadow Warrior</td>\n",
       "      <td>Hermione G., Cedric D.</td>\n",
       "    </tr>\n",
       "    <tr>\n",
       "      <th>15472</th>\n",
       "      <td>[Harry P., Hermione G.] Crookshanks</td>\n",
       "      <td>Humor</td>\n",
       "      <td>K+</td>\n",
       "      <td>Crookshanks' point of view of what happened in...</td>\n",
       "      <td>Magical Menagerie</td>\n",
       "      <td>Harry P., Hermione G.</td>\n",
       "    </tr>\n",
       "    <tr>\n",
       "      <th>16334</th>\n",
       "      <td>[Draco M., Hermione G.] Teddy L.</td>\n",
       "      <td>Family/Humor</td>\n",
       "      <td>K</td>\n",
       "      <td>It's Teddy Lupin's 4th birthday, and Draco has...</td>\n",
       "      <td>Must Be A Weasley</td>\n",
       "      <td>Draco M., Hermione G.</td>\n",
       "    </tr>\n",
       "    <tr>\n",
       "      <th>18356</th>\n",
       "      <td>[Hermione G., Severus S.] OC</td>\n",
       "      <td>Family</td>\n",
       "      <td>K</td>\n",
       "      <td>Leenie, Hogwarts's youngest resident, escapes ...</td>\n",
       "      <td>Winging It</td>\n",
       "      <td>Hermione G., Severus S.</td>\n",
       "    </tr>\n",
       "    <tr>\n",
       "      <th>18667</th>\n",
       "      <td>[Harry P., Ginny W.] Teddy L., James S. P.</td>\n",
       "      <td>Family/Hurt/Comfort</td>\n",
       "      <td>K+</td>\n",
       "      <td>Teddy tries to deal with Harry and Ginny's stu...</td>\n",
       "      <td>Godfamily</td>\n",
       "      <td>Harry P., Ginny W.</td>\n",
       "    </tr>\n",
       "  </tbody>\n",
       "</table>\n",
       "</div>"
      ],
      "text/plain": [
       "                                           characters  \\\n",
       "6123                             [Harry P., Ginny W.]   \n",
       "10468      [Harry P., Ginny W.] [Ron W., Hermione G.]   \n",
       "11095                         [Hermione G., Draco M.]   \n",
       "13257        [Hermione G., Draco M.] Harry P., Ron W.   \n",
       "14074   [Hermione G., Draco M.] George W., Charlie W.   \n",
       "14513  [Hermione G., Cedric D.] [Neville L., Luna L.]   \n",
       "15472             [Harry P., Hermione G.] Crookshanks   \n",
       "16334                [Draco M., Hermione G.] Teddy L.   \n",
       "18356                    [Hermione G., Severus S.] OC   \n",
       "18667      [Harry P., Ginny W.] Teddy L., James S. P.   \n",
       "\n",
       "                         genre rating  \\\n",
       "6123   Friendship/Hurt/Comfort      K   \n",
       "10468        Friendship/Family      K   \n",
       "11095  Friendship/Hurt/Comfort      K   \n",
       "13257         Humor/Friendship      K   \n",
       "14074      Family/Hurt/Comfort     K+   \n",
       "14513                Adventure     K+   \n",
       "15472                    Humor     K+   \n",
       "16334             Family/Humor      K   \n",
       "18356                   Family      K   \n",
       "18667      Family/Hurt/Comfort     K+   \n",
       "\n",
       "                                                synopsis  \\\n",
       "6123   From an early age Ginny feels a close connecti...   \n",
       "10468  His best mate would do anything for him, he wa...   \n",
       "11095  When Draco Malfoy's sixth birthday doesn't go ...   \n",
       "13257  COMPLETE: Is ten years after the end of the Se...   \n",
       "14074  ONE SHOT: Hermione wasn't meant to be alone. S...   \n",
       "14513  Darkness and light. Wrong or right. Join Harry...   \n",
       "15472  Crookshanks' point of view of what happened in...   \n",
       "16334  It's Teddy Lupin's 4th birthday, and Draco has...   \n",
       "18356  Leenie, Hogwarts's youngest resident, escapes ...   \n",
       "18667  Teddy tries to deal with Harry and Ginny's stu...   \n",
       "\n",
       "                               title                  pairing  \n",
       "6123                         Rituals       Harry P., Ginny W.  \n",
       "10468                My One Good Leg       Harry P., Ginny W.  \n",
       "11095  Dandelions and Birthday Blues    Hermione G., Draco M.  \n",
       "13257                      Wormholed    Hermione G., Draco M.  \n",
       "14074       Horntails and Heartbreak    Hermione G., Draco M.  \n",
       "14513             The Shadow Warrior   Hermione G., Cedric D.  \n",
       "15472              Magical Menagerie    Harry P., Hermione G.  \n",
       "16334              Must Be A Weasley    Draco M., Hermione G.  \n",
       "18356                     Winging It  Hermione G., Severus S.  \n",
       "18667                      Godfamily       Harry P., Ginny W.  "
      ]
     },
     "execution_count": 256,
     "metadata": {},
     "output_type": "execute_result"
    }
   ],
   "source": [
    "fanfics.head(10)"
   ]
  },
  {
   "cell_type": "code",
   "execution_count": 257,
   "id": "ff0e6dfb",
   "metadata": {},
   "outputs": [],
   "source": [
    "fanfics['characters'] = fanfics['characters'].str.replace('[', '', regex=False)\n",
    "fanfics['characters'] = fanfics['characters'].str.replace(']', '', regex=False)"
   ]
  },
  {
   "cell_type": "code",
   "execution_count": 258,
   "id": "6b4e3ee4",
   "metadata": {},
   "outputs": [
    {
     "data": {
      "text/html": [
       "<div>\n",
       "<style scoped>\n",
       "    .dataframe tbody tr th:only-of-type {\n",
       "        vertical-align: middle;\n",
       "    }\n",
       "\n",
       "    .dataframe tbody tr th {\n",
       "        vertical-align: top;\n",
       "    }\n",
       "\n",
       "    .dataframe thead th {\n",
       "        text-align: right;\n",
       "    }\n",
       "</style>\n",
       "<table border=\"1\" class=\"dataframe\">\n",
       "  <thead>\n",
       "    <tr style=\"text-align: right;\">\n",
       "      <th></th>\n",
       "      <th>characters</th>\n",
       "      <th>genre</th>\n",
       "      <th>rating</th>\n",
       "      <th>synopsis</th>\n",
       "      <th>title</th>\n",
       "      <th>pairing</th>\n",
       "    </tr>\n",
       "  </thead>\n",
       "  <tbody>\n",
       "    <tr>\n",
       "      <th>6123</th>\n",
       "      <td>Harry P., Ginny W.</td>\n",
       "      <td>Friendship/Hurt/Comfort</td>\n",
       "      <td>K</td>\n",
       "      <td>From an early age Ginny feels a close connecti...</td>\n",
       "      <td>Rituals</td>\n",
       "      <td>Harry P., Ginny W.</td>\n",
       "    </tr>\n",
       "    <tr>\n",
       "      <th>10468</th>\n",
       "      <td>Harry P., Ginny W. Ron W., Hermione G.</td>\n",
       "      <td>Friendship/Family</td>\n",
       "      <td>K</td>\n",
       "      <td>His best mate would do anything for him, he wa...</td>\n",
       "      <td>My One Good Leg</td>\n",
       "      <td>Harry P., Ginny W.</td>\n",
       "    </tr>\n",
       "    <tr>\n",
       "      <th>11095</th>\n",
       "      <td>Hermione G., Draco M.</td>\n",
       "      <td>Friendship/Hurt/Comfort</td>\n",
       "      <td>K</td>\n",
       "      <td>When Draco Malfoy's sixth birthday doesn't go ...</td>\n",
       "      <td>Dandelions and Birthday Blues</td>\n",
       "      <td>Hermione G., Draco M.</td>\n",
       "    </tr>\n",
       "    <tr>\n",
       "      <th>13257</th>\n",
       "      <td>Hermione G., Draco M. Harry P., Ron W.</td>\n",
       "      <td>Humor/Friendship</td>\n",
       "      <td>K</td>\n",
       "      <td>COMPLETE: Is ten years after the end of the Se...</td>\n",
       "      <td>Wormholed</td>\n",
       "      <td>Hermione G., Draco M.</td>\n",
       "    </tr>\n",
       "    <tr>\n",
       "      <th>14074</th>\n",
       "      <td>Hermione G., Draco M. George W., Charlie W.</td>\n",
       "      <td>Family/Hurt/Comfort</td>\n",
       "      <td>K+</td>\n",
       "      <td>ONE SHOT: Hermione wasn't meant to be alone. S...</td>\n",
       "      <td>Horntails and Heartbreak</td>\n",
       "      <td>Hermione G., Draco M.</td>\n",
       "    </tr>\n",
       "    <tr>\n",
       "      <th>14513</th>\n",
       "      <td>Hermione G., Cedric D. Neville L., Luna L.</td>\n",
       "      <td>Adventure</td>\n",
       "      <td>K+</td>\n",
       "      <td>Darkness and light. Wrong or right. Join Harry...</td>\n",
       "      <td>The Shadow Warrior</td>\n",
       "      <td>Hermione G., Cedric D.</td>\n",
       "    </tr>\n",
       "    <tr>\n",
       "      <th>15472</th>\n",
       "      <td>Harry P., Hermione G. Crookshanks</td>\n",
       "      <td>Humor</td>\n",
       "      <td>K+</td>\n",
       "      <td>Crookshanks' point of view of what happened in...</td>\n",
       "      <td>Magical Menagerie</td>\n",
       "      <td>Harry P., Hermione G.</td>\n",
       "    </tr>\n",
       "    <tr>\n",
       "      <th>16334</th>\n",
       "      <td>Draco M., Hermione G. Teddy L.</td>\n",
       "      <td>Family/Humor</td>\n",
       "      <td>K</td>\n",
       "      <td>It's Teddy Lupin's 4th birthday, and Draco has...</td>\n",
       "      <td>Must Be A Weasley</td>\n",
       "      <td>Draco M., Hermione G.</td>\n",
       "    </tr>\n",
       "    <tr>\n",
       "      <th>18356</th>\n",
       "      <td>Hermione G., Severus S. OC</td>\n",
       "      <td>Family</td>\n",
       "      <td>K</td>\n",
       "      <td>Leenie, Hogwarts's youngest resident, escapes ...</td>\n",
       "      <td>Winging It</td>\n",
       "      <td>Hermione G., Severus S.</td>\n",
       "    </tr>\n",
       "    <tr>\n",
       "      <th>18667</th>\n",
       "      <td>Harry P., Ginny W. Teddy L., James S. P.</td>\n",
       "      <td>Family/Hurt/Comfort</td>\n",
       "      <td>K+</td>\n",
       "      <td>Teddy tries to deal with Harry and Ginny's stu...</td>\n",
       "      <td>Godfamily</td>\n",
       "      <td>Harry P., Ginny W.</td>\n",
       "    </tr>\n",
       "  </tbody>\n",
       "</table>\n",
       "</div>"
      ],
      "text/plain": [
       "                                        characters                    genre  \\\n",
       "6123                            Harry P., Ginny W.  Friendship/Hurt/Comfort   \n",
       "10468       Harry P., Ginny W. Ron W., Hermione G.        Friendship/Family   \n",
       "11095                        Hermione G., Draco M.  Friendship/Hurt/Comfort   \n",
       "13257       Hermione G., Draco M. Harry P., Ron W.         Humor/Friendship   \n",
       "14074  Hermione G., Draco M. George W., Charlie W.      Family/Hurt/Comfort   \n",
       "14513   Hermione G., Cedric D. Neville L., Luna L.                Adventure   \n",
       "15472            Harry P., Hermione G. Crookshanks                    Humor   \n",
       "16334               Draco M., Hermione G. Teddy L.             Family/Humor   \n",
       "18356                   Hermione G., Severus S. OC                   Family   \n",
       "18667     Harry P., Ginny W. Teddy L., James S. P.      Family/Hurt/Comfort   \n",
       "\n",
       "      rating                                           synopsis  \\\n",
       "6123       K  From an early age Ginny feels a close connecti...   \n",
       "10468      K  His best mate would do anything for him, he wa...   \n",
       "11095      K  When Draco Malfoy's sixth birthday doesn't go ...   \n",
       "13257      K  COMPLETE: Is ten years after the end of the Se...   \n",
       "14074     K+  ONE SHOT: Hermione wasn't meant to be alone. S...   \n",
       "14513     K+  Darkness and light. Wrong or right. Join Harry...   \n",
       "15472     K+  Crookshanks' point of view of what happened in...   \n",
       "16334      K  It's Teddy Lupin's 4th birthday, and Draco has...   \n",
       "18356      K  Leenie, Hogwarts's youngest resident, escapes ...   \n",
       "18667     K+  Teddy tries to deal with Harry and Ginny's stu...   \n",
       "\n",
       "                               title                  pairing  \n",
       "6123                         Rituals       Harry P., Ginny W.  \n",
       "10468                My One Good Leg       Harry P., Ginny W.  \n",
       "11095  Dandelions and Birthday Blues    Hermione G., Draco M.  \n",
       "13257                      Wormholed    Hermione G., Draco M.  \n",
       "14074       Horntails and Heartbreak    Hermione G., Draco M.  \n",
       "14513             The Shadow Warrior   Hermione G., Cedric D.  \n",
       "15472              Magical Menagerie    Harry P., Hermione G.  \n",
       "16334              Must Be A Weasley    Draco M., Hermione G.  \n",
       "18356                     Winging It  Hermione G., Severus S.  \n",
       "18667                      Godfamily       Harry P., Ginny W.  "
      ]
     },
     "execution_count": 258,
     "metadata": {},
     "output_type": "execute_result"
    }
   ],
   "source": [
    "fanfics.head(10)"
   ]
  },
  {
   "cell_type": "code",
   "execution_count": 259,
   "id": "c84764bc",
   "metadata": {},
   "outputs": [
    {
     "data": {
      "text/plain": [
       "6123      Friendship Hurt Comfort\n",
       "10468           Friendship Family\n",
       "11095     Friendship Hurt Comfort\n",
       "13257            Humor Friendship\n",
       "14074         Family Hurt Comfort\n",
       "                   ...           \n",
       "647563                      Angst\n",
       "647792               Humor Parody\n",
       "647955                      Angst\n",
       "648010               Humor Parody\n",
       "648426                      Humor\n",
       "Name: genre, Length: 3376, dtype: object"
      ]
     },
     "execution_count": 259,
     "metadata": {},
     "output_type": "execute_result"
    }
   ],
   "source": [
    "fanfics['genre'].str.replace('/',' ')"
   ]
  },
  {
   "cell_type": "code",
   "execution_count": 260,
   "id": "7f601229",
   "metadata": {},
   "outputs": [],
   "source": [
    "fanfics['genre'] = fanfics['genre'].str.replace('/',' ')"
   ]
  },
  {
   "cell_type": "code",
   "execution_count": 261,
   "id": "43c981db",
   "metadata": {},
   "outputs": [
    {
     "data": {
      "text/html": [
       "<div>\n",
       "<style scoped>\n",
       "    .dataframe tbody tr th:only-of-type {\n",
       "        vertical-align: middle;\n",
       "    }\n",
       "\n",
       "    .dataframe tbody tr th {\n",
       "        vertical-align: top;\n",
       "    }\n",
       "\n",
       "    .dataframe thead th {\n",
       "        text-align: right;\n",
       "    }\n",
       "</style>\n",
       "<table border=\"1\" class=\"dataframe\">\n",
       "  <thead>\n",
       "    <tr style=\"text-align: right;\">\n",
       "      <th></th>\n",
       "      <th>characters</th>\n",
       "      <th>genre</th>\n",
       "      <th>rating</th>\n",
       "      <th>synopsis</th>\n",
       "      <th>title</th>\n",
       "      <th>pairing</th>\n",
       "    </tr>\n",
       "  </thead>\n",
       "  <tbody>\n",
       "    <tr>\n",
       "      <th>6123</th>\n",
       "      <td>Harry P., Ginny W.</td>\n",
       "      <td>Friendship Hurt Comfort</td>\n",
       "      <td>K</td>\n",
       "      <td>From an early age Ginny feels a close connecti...</td>\n",
       "      <td>Rituals</td>\n",
       "      <td>Harry P., Ginny W.</td>\n",
       "    </tr>\n",
       "  </tbody>\n",
       "</table>\n",
       "</div>"
      ],
      "text/plain": [
       "              characters                    genre rating  \\\n",
       "6123  Harry P., Ginny W.  Friendship Hurt Comfort      K   \n",
       "\n",
       "                                               synopsis    title  \\\n",
       "6123  From an early age Ginny feels a close connecti...  Rituals   \n",
       "\n",
       "                 pairing  \n",
       "6123  Harry P., Ginny W.  "
      ]
     },
     "execution_count": 261,
     "metadata": {},
     "output_type": "execute_result"
    }
   ],
   "source": [
    "fanfics.head(1)"
   ]
  },
  {
   "cell_type": "markdown",
   "id": "c13d3444",
   "metadata": {},
   "source": [
    "### Combining First and Last Names for Characters\n",
    "\n",
    "When working with character names, it's important to combine the first name and surname into one entity. For example, consider the name \"Leslie Knope\". If we don't combine them, we could face confusion with similar names, such as \"Leslie Feinberg\". \n",
    "\n",
    "If the user specifically wants movies with \"Leslie Knope\", the system might mistakenly recommend movies featuring \"Leslie Feinberg\" instead. \n",
    "\n",
    "By concatenating the first and last names (e.g., \"Leslie Knope\" becomes \"LeslieKnope\"), we ensure the model treats the character as a unique entity, eliminating any ambiguity and ensuring more accurate recommendations."
   ]
  },
  {
   "cell_type": "code",
   "execution_count": 262,
   "id": "9de6e5b2",
   "metadata": {},
   "outputs": [
    {
     "data": {
      "text/plain": [
       "6123                           HarryP.,GinnyW.\n",
       "10468          HarryP.,GinnyW.RonW.,HermioneG.\n",
       "11095                       HermioneG.,DracoM.\n",
       "13257          HermioneG.,DracoM.HarryP.,RonW.\n",
       "14074     HermioneG.,DracoM.GeorgeW.,CharlieW.\n",
       "                          ...                 \n",
       "647563                        SiriusB.,RemusL.\n",
       "647792                       HarryP.,SeverusS.\n",
       "647955                                 HarryP.\n",
       "648010                         HarryP.,DracoM.\n",
       "648426                      DracoM.,HermioneG.\n",
       "Name: characters, Length: 3376, dtype: object"
      ]
     },
     "execution_count": 262,
     "metadata": {},
     "output_type": "execute_result"
    }
   ],
   "source": [
    "fanfics['characters'].str.replace(\" \",\"\")"
   ]
  },
  {
   "cell_type": "code",
   "execution_count": 263,
   "id": "9aeff1bd",
   "metadata": {},
   "outputs": [],
   "source": [
    "fanfics['characters'] = fanfics['characters'].str.replace(\" \",\"\")"
   ]
  },
  {
   "cell_type": "code",
   "execution_count": 264,
   "id": "751c01d7",
   "metadata": {},
   "outputs": [],
   "source": [
    "fanfics['characters'] = fanfics['characters'].str.replace(',',' ')\n",
    "fanfics['synopsis'] = fanfics['synopsis'].str.replace('.',' ')\n",
    "fanfics['synopsis'] = fanfics['synopsis'].str.replace(',',' ')"
   ]
  },
  {
   "cell_type": "code",
   "execution_count": 265,
   "id": "4576c20b",
   "metadata": {},
   "outputs": [],
   "source": [
    "fanfics['pairing'] = fanfics['pairing'].str.replace(\" \",\"\")"
   ]
  },
  {
   "cell_type": "code",
   "execution_count": 266,
   "id": "77c53857",
   "metadata": {},
   "outputs": [],
   "source": [
    "fanfics['pairing'] = fanfics['pairing'].str.replace(\",\",\" \")"
   ]
  },
  {
   "cell_type": "code",
   "execution_count": 267,
   "id": "a0d45157",
   "metadata": {},
   "outputs": [
    {
     "data": {
      "text/html": [
       "<div>\n",
       "<style scoped>\n",
       "    .dataframe tbody tr th:only-of-type {\n",
       "        vertical-align: middle;\n",
       "    }\n",
       "\n",
       "    .dataframe tbody tr th {\n",
       "        vertical-align: top;\n",
       "    }\n",
       "\n",
       "    .dataframe thead th {\n",
       "        text-align: right;\n",
       "    }\n",
       "</style>\n",
       "<table border=\"1\" class=\"dataframe\">\n",
       "  <thead>\n",
       "    <tr style=\"text-align: right;\">\n",
       "      <th></th>\n",
       "      <th>characters</th>\n",
       "      <th>genre</th>\n",
       "      <th>rating</th>\n",
       "      <th>synopsis</th>\n",
       "      <th>title</th>\n",
       "      <th>pairing</th>\n",
       "    </tr>\n",
       "  </thead>\n",
       "  <tbody>\n",
       "    <tr>\n",
       "      <th>6123</th>\n",
       "      <td>HarryP. GinnyW.</td>\n",
       "      <td>Friendship Hurt Comfort</td>\n",
       "      <td>K</td>\n",
       "      <td>From an early age Ginny feels a close connecti...</td>\n",
       "      <td>Rituals</td>\n",
       "      <td>HarryP. GinnyW.</td>\n",
       "    </tr>\n",
       "  </tbody>\n",
       "</table>\n",
       "</div>"
      ],
      "text/plain": [
       "           characters                    genre rating  \\\n",
       "6123  HarryP. GinnyW.  Friendship Hurt Comfort      K   \n",
       "\n",
       "                                               synopsis    title  \\\n",
       "6123  From an early age Ginny feels a close connecti...  Rituals   \n",
       "\n",
       "              pairing  \n",
       "6123  HarryP. GinnyW.  "
      ]
     },
     "execution_count": 267,
     "metadata": {},
     "output_type": "execute_result"
    }
   ],
   "source": [
    "fanfics.head(1)"
   ]
  },
  {
   "cell_type": "code",
   "execution_count": 268,
   "id": "0ef2ca34",
   "metadata": {},
   "outputs": [
    {
     "data": {
      "text/plain": [
       "pairing\n",
       "HarryP. SeverusS.              283\n",
       "HarryP.                        267\n",
       "HarryP. GinnyW.                108\n",
       "HarryP. SiriusB.               101\n",
       "HarryP. HermioneG.              86\n",
       "                              ... \n",
       "HarryP. JamesP. LilyEvansP.      1\n",
       "SiriusB. AndromedaT.             1\n",
       "HarryP. KingsleyS.               1\n",
       "[JamesP. LilyEvansP.]            1\n",
       "P.Sprout SeverusS.               1\n",
       "Name: count, Length: 652, dtype: int64"
      ]
     },
     "execution_count": 268,
     "metadata": {},
     "output_type": "execute_result"
    }
   ],
   "source": [
    "# pd.set_option('display.max_rows', None)\n",
    "fanfics['pairing'].value_counts()"
   ]
  },
  {
   "cell_type": "markdown",
   "id": "17b03ee2",
   "metadata": {},
   "source": [
    "### Standardizing Pairings\n",
    "\n",
    "When dealing with character pairings, it's important to treat variations of the same pairing as equivalent entities. For example, \"HarryP. SeverusS.\" and \"SeverusS. HarryP.\" should be considered the same pairing. \n",
    "\n",
    "The order in which the characters are listed doesn't change the nature of the pairing. To address this, we can standardize the pairing format, ensuring that all variations are recognized as identical, leading to more consistent recommendations."
   ]
  },
  {
   "cell_type": "code",
   "execution_count": 269,
   "id": "87609532",
   "metadata": {},
   "outputs": [],
   "source": [
    "def normalize_pairing(pairing):\n",
    "    # Split the pairing into individual names\n",
    "    names = pairing.split()\n",
    "    # Sort the names alphabetically and join them back\n",
    "    sorted_names = \" \".join(sorted(names))\n",
    "    return sorted_names\n",
    "\n",
    "# Apply the normalization function to the 'pairing' column\n",
    "fanfics['pairing_normalized'] = fanfics['pairing'].apply(normalize_pairing)"
   ]
  },
  {
   "cell_type": "code",
   "execution_count": 270,
   "id": "6c44eac0",
   "metadata": {},
   "outputs": [
    {
     "data": {
      "text/plain": [
       "pairing_normalized\n",
       "HarryP. SeverusS.              362\n",
       "HarryP.                        267\n",
       "GinnyW. HarryP.                149\n",
       "HarryP. SiriusB.               134\n",
       "HarryP. HermioneG.             111\n",
       "                              ... \n",
       "CharlieW. GeorgeW.               1\n",
       "HarryP. JamesP. LilyEvansP.      1\n",
       "AndromedaT. SiriusB.             1\n",
       "LilyEvansP.] [JamesP.            1\n",
       "P.Sprout SeverusS.               1\n",
       "Name: count, Length: 531, dtype: int64"
      ]
     },
     "execution_count": 270,
     "metadata": {},
     "output_type": "execute_result"
    }
   ],
   "source": [
    "fanfics['pairing_normalized'].value_counts()"
   ]
  },
  {
   "cell_type": "markdown",
   "id": "189e5615",
   "metadata": {},
   "source": [
    "### Combining Pairings into One Word\n",
    "\n",
    "To improve the impact of pairings on our analysis, I'll combine them into a single word. If pairings are kept as separate characters (e.g., \"Hermione\" and \"Luna\"), it would be similar to the character column, and the pairing itself would lose its significance. By combining the pairing into one word (e.g., \"HermioneLuna\"), we ensure that the relationship between characters is properly represented and contributes meaningfully to the results."
   ]
  },
  {
   "cell_type": "code",
   "execution_count": 271,
   "id": "76f2bb68",
   "metadata": {},
   "outputs": [
    {
     "data": {
      "text/plain": [
       "6123         GinnyW HarryP\n",
       "10468        GinnyW HarryP\n",
       "11095     DracoM HermioneG\n",
       "13257     DracoM HermioneG\n",
       "14074     DracoM HermioneG\n",
       "                ...       \n",
       "647563      RemusL SiriusB\n",
       "647792     HarryP SeverusS\n",
       "647955              HarryP\n",
       "648010       DracoM HarryP\n",
       "648426    DracoM HermioneG\n",
       "Name: pairing_normalized, Length: 3376, dtype: object"
      ]
     },
     "execution_count": 271,
     "metadata": {},
     "output_type": "execute_result"
    }
   ],
   "source": [
    "fanfics['pairing_normalized'].str.replace('.', '')"
   ]
  },
  {
   "cell_type": "code",
   "execution_count": 272,
   "id": "56494f1d",
   "metadata": {},
   "outputs": [],
   "source": [
    "fanfics['pairing'] = fanfics['pairing_normalized'].str.replace('.', '')"
   ]
  },
  {
   "cell_type": "code",
   "execution_count": 273,
   "id": "de41417b",
   "metadata": {},
   "outputs": [
    {
     "data": {
      "text/plain": [
       "6123         GinnyWHarryP\n",
       "10468        GinnyWHarryP\n",
       "11095     DracoMHermioneG\n",
       "13257     DracoMHermioneG\n",
       "14074     DracoMHermioneG\n",
       "               ...       \n",
       "647563      RemusLSiriusB\n",
       "647792     HarryPSeverusS\n",
       "647955             HarryP\n",
       "648010       DracoMHarryP\n",
       "648426    DracoMHermioneG\n",
       "Name: pairing, Length: 3376, dtype: object"
      ]
     },
     "execution_count": 273,
     "metadata": {},
     "output_type": "execute_result"
    }
   ],
   "source": [
    "fanfics['pairing'].str.replace(' ', '')"
   ]
  },
  {
   "cell_type": "code",
   "execution_count": 274,
   "id": "48f3017d",
   "metadata": {},
   "outputs": [],
   "source": [
    "fanfics['pairing'] = fanfics['pairing'].str.replace(' ', '')"
   ]
  },
  {
   "cell_type": "code",
   "execution_count": 275,
   "id": "84015ffb",
   "metadata": {},
   "outputs": [],
   "source": [
    "fanfics['tags'] = fanfics['characters'] + fanfics['genre'] + fanfics['synopsis'] + fanfics['title'] + fanfics['pairing']"
   ]
  },
  {
   "cell_type": "code",
   "execution_count": 276,
   "id": "e22c5369",
   "metadata": {},
   "outputs": [
    {
     "ename": "KeyError",
     "evalue": "0",
     "output_type": "error",
     "traceback": [
      "\u001b[1;31m---------------------------------------------------------------------------\u001b[0m",
      "\u001b[1;31mKeyError\u001b[0m                                  Traceback (most recent call last)",
      "File \u001b[1;32m~\\anaconda3\\Lib\\site-packages\\pandas\\core\\indexes\\base.py:3805\u001b[0m, in \u001b[0;36mIndex.get_loc\u001b[1;34m(self, key)\u001b[0m\n\u001b[0;32m   3804\u001b[0m \u001b[38;5;28;01mtry\u001b[39;00m:\n\u001b[1;32m-> 3805\u001b[0m     \u001b[38;5;28;01mreturn\u001b[39;00m \u001b[38;5;28mself\u001b[39m\u001b[38;5;241m.\u001b[39m_engine\u001b[38;5;241m.\u001b[39mget_loc(casted_key)\n\u001b[0;32m   3806\u001b[0m \u001b[38;5;28;01mexcept\u001b[39;00m \u001b[38;5;167;01mKeyError\u001b[39;00m \u001b[38;5;28;01mas\u001b[39;00m err:\n",
      "File \u001b[1;32mindex.pyx:167\u001b[0m, in \u001b[0;36mpandas._libs.index.IndexEngine.get_loc\u001b[1;34m()\u001b[0m\n",
      "File \u001b[1;32mindex.pyx:196\u001b[0m, in \u001b[0;36mpandas._libs.index.IndexEngine.get_loc\u001b[1;34m()\u001b[0m\n",
      "File \u001b[1;32mpandas\\\\_libs\\\\hashtable_class_helper.pxi:2606\u001b[0m, in \u001b[0;36mpandas._libs.hashtable.Int64HashTable.get_item\u001b[1;34m()\u001b[0m\n",
      "File \u001b[1;32mpandas\\\\_libs\\\\hashtable_class_helper.pxi:2630\u001b[0m, in \u001b[0;36mpandas._libs.hashtable.Int64HashTable.get_item\u001b[1;34m()\u001b[0m\n",
      "\u001b[1;31mKeyError\u001b[0m: 0",
      "\nThe above exception was the direct cause of the following exception:\n",
      "\u001b[1;31mKeyError\u001b[0m                                  Traceback (most recent call last)",
      "Cell \u001b[1;32mIn[276], line 1\u001b[0m\n\u001b[1;32m----> 1\u001b[0m fanfics[\u001b[38;5;124m'\u001b[39m\u001b[38;5;124mtags\u001b[39m\u001b[38;5;124m'\u001b[39m][\u001b[38;5;241m0\u001b[39m]\n",
      "File \u001b[1;32m~\\anaconda3\\Lib\\site-packages\\pandas\\core\\series.py:1112\u001b[0m, in \u001b[0;36mSeries.__getitem__\u001b[1;34m(self, key)\u001b[0m\n\u001b[0;32m   1109\u001b[0m     \u001b[38;5;28;01mreturn\u001b[39;00m \u001b[38;5;28mself\u001b[39m\u001b[38;5;241m.\u001b[39m_values[key]\n\u001b[0;32m   1111\u001b[0m \u001b[38;5;28;01melif\u001b[39;00m key_is_scalar:\n\u001b[1;32m-> 1112\u001b[0m     \u001b[38;5;28;01mreturn\u001b[39;00m \u001b[38;5;28mself\u001b[39m\u001b[38;5;241m.\u001b[39m_get_value(key)\n\u001b[0;32m   1114\u001b[0m \u001b[38;5;66;03m# Convert generator to list before going through hashable part\u001b[39;00m\n\u001b[0;32m   1115\u001b[0m \u001b[38;5;66;03m# (We will iterate through the generator there to check for slices)\u001b[39;00m\n\u001b[0;32m   1116\u001b[0m \u001b[38;5;28;01mif\u001b[39;00m is_iterator(key):\n",
      "File \u001b[1;32m~\\anaconda3\\Lib\\site-packages\\pandas\\core\\series.py:1228\u001b[0m, in \u001b[0;36mSeries._get_value\u001b[1;34m(self, label, takeable)\u001b[0m\n\u001b[0;32m   1225\u001b[0m     \u001b[38;5;28;01mreturn\u001b[39;00m \u001b[38;5;28mself\u001b[39m\u001b[38;5;241m.\u001b[39m_values[label]\n\u001b[0;32m   1227\u001b[0m \u001b[38;5;66;03m# Similar to Index.get_value, but we do not fall back to positional\u001b[39;00m\n\u001b[1;32m-> 1228\u001b[0m loc \u001b[38;5;241m=\u001b[39m \u001b[38;5;28mself\u001b[39m\u001b[38;5;241m.\u001b[39mindex\u001b[38;5;241m.\u001b[39mget_loc(label)\n\u001b[0;32m   1230\u001b[0m \u001b[38;5;28;01mif\u001b[39;00m is_integer(loc):\n\u001b[0;32m   1231\u001b[0m     \u001b[38;5;28;01mreturn\u001b[39;00m \u001b[38;5;28mself\u001b[39m\u001b[38;5;241m.\u001b[39m_values[loc]\n",
      "File \u001b[1;32m~\\anaconda3\\Lib\\site-packages\\pandas\\core\\indexes\\base.py:3812\u001b[0m, in \u001b[0;36mIndex.get_loc\u001b[1;34m(self, key)\u001b[0m\n\u001b[0;32m   3807\u001b[0m     \u001b[38;5;28;01mif\u001b[39;00m \u001b[38;5;28misinstance\u001b[39m(casted_key, \u001b[38;5;28mslice\u001b[39m) \u001b[38;5;129;01mor\u001b[39;00m (\n\u001b[0;32m   3808\u001b[0m         \u001b[38;5;28misinstance\u001b[39m(casted_key, abc\u001b[38;5;241m.\u001b[39mIterable)\n\u001b[0;32m   3809\u001b[0m         \u001b[38;5;129;01mand\u001b[39;00m \u001b[38;5;28many\u001b[39m(\u001b[38;5;28misinstance\u001b[39m(x, \u001b[38;5;28mslice\u001b[39m) \u001b[38;5;28;01mfor\u001b[39;00m x \u001b[38;5;129;01min\u001b[39;00m casted_key)\n\u001b[0;32m   3810\u001b[0m     ):\n\u001b[0;32m   3811\u001b[0m         \u001b[38;5;28;01mraise\u001b[39;00m InvalidIndexError(key)\n\u001b[1;32m-> 3812\u001b[0m     \u001b[38;5;28;01mraise\u001b[39;00m \u001b[38;5;167;01mKeyError\u001b[39;00m(key) \u001b[38;5;28;01mfrom\u001b[39;00m \u001b[38;5;21;01merr\u001b[39;00m\n\u001b[0;32m   3813\u001b[0m \u001b[38;5;28;01mexcept\u001b[39;00m \u001b[38;5;167;01mTypeError\u001b[39;00m:\n\u001b[0;32m   3814\u001b[0m     \u001b[38;5;66;03m# If we have a listlike key, _check_indexing_error will raise\u001b[39;00m\n\u001b[0;32m   3815\u001b[0m     \u001b[38;5;66;03m#  InvalidIndexError. Otherwise we fall through and re-raise\u001b[39;00m\n\u001b[0;32m   3816\u001b[0m     \u001b[38;5;66;03m#  the TypeError.\u001b[39;00m\n\u001b[0;32m   3817\u001b[0m     \u001b[38;5;28mself\u001b[39m\u001b[38;5;241m.\u001b[39m_check_indexing_error(key)\n",
      "\u001b[1;31mKeyError\u001b[0m: 0"
     ]
    }
   ],
   "source": [
    "fanfics['tags'][0]"
   ]
  },
  {
   "cell_type": "code",
   "execution_count": 277,
   "id": "9c185656",
   "metadata": {},
   "outputs": [],
   "source": [
    "fanfics.reset_index(drop=True, inplace=True)"
   ]
  },
  {
   "cell_type": "code",
   "execution_count": 278,
   "id": "ec177d1e",
   "metadata": {},
   "outputs": [
    {
     "data": {
      "text/plain": [
       "'HarryP. GinnyW.Friendship Hurt ComfortFrom an early age Ginny feels a close connection to Harry and vows to do everything to help him  She uses series of rituals to ensure his safety and give him the knowledge that someone cares and loves him  Rating may change in later chapters RitualsGinnyWHarryP'"
      ]
     },
     "execution_count": 278,
     "metadata": {},
     "output_type": "execute_result"
    }
   ],
   "source": [
    "fanfics['tags'][0]"
   ]
  },
  {
   "cell_type": "markdown",
   "id": "77f5ac51",
   "metadata": {},
   "source": [
    "Problem: Fused Content at the End of Column Entries"
   ]
  },
  {
   "cell_type": "code",
   "execution_count": 279,
   "id": "48f62334",
   "metadata": {},
   "outputs": [],
   "source": [
    "fanfics['tags'] = fanfics['characters'] + ' ' + fanfics['genre'] + ' ' + fanfics['rating'] + ' ' + fanfics['synopsis'] + ' ' + fanfics['title'] + ' ' + fanfics['pairing']"
   ]
  },
  {
   "cell_type": "code",
   "execution_count": 280,
   "id": "6dea2dfd",
   "metadata": {},
   "outputs": [
    {
     "data": {
      "text/plain": [
       "'HarryP. GinnyW. Friendship Hurt Comfort K From an early age Ginny feels a close connection to Harry and vows to do everything to help him  She uses series of rituals to ensure his safety and give him the knowledge that someone cares and loves him  Rating may change in later chapters  Rituals GinnyWHarryP'"
      ]
     },
     "execution_count": 280,
     "metadata": {},
     "output_type": "execute_result"
    }
   ],
   "source": [
    "fanfics['tags'][0]"
   ]
  },
  {
   "cell_type": "code",
   "execution_count": 281,
   "id": "8acd359f",
   "metadata": {},
   "outputs": [],
   "source": [
    "fanfics['tags'] = fanfics['tags'].str.replace('.','')"
   ]
  },
  {
   "cell_type": "code",
   "execution_count": 282,
   "id": "40f9bb3d",
   "metadata": {},
   "outputs": [],
   "source": [
    "new_df = fanfics"
   ]
  },
  {
   "cell_type": "code",
   "execution_count": 283,
   "id": "d2ccc863",
   "metadata": {},
   "outputs": [],
   "source": [
    "new_df['tags'] = new_df['tags'].apply(lambda x:x.lower())"
   ]
  },
  {
   "cell_type": "code",
   "execution_count": 284,
   "id": "8f60db74",
   "metadata": {},
   "outputs": [
    {
     "data": {
      "text/plain": [
       "'harryp ginnyw friendship hurt comfort k from an early age ginny feels a close connection to harry and vows to do everything to help him  she uses series of rituals to ensure his safety and give him the knowledge that someone cares and loves him  rating may change in later chapters  rituals ginnywharryp'"
      ]
     },
     "execution_count": 284,
     "metadata": {},
     "output_type": "execute_result"
    }
   ],
   "source": [
    "new_df['tags'][0]"
   ]
  },
  {
   "cell_type": "code",
   "execution_count": 285,
   "id": "ed707b0b",
   "metadata": {},
   "outputs": [
    {
     "name": "stdout",
     "output_type": "stream",
     "text": [
      "<class 'pandas.core.frame.DataFrame'>\n",
      "RangeIndex: 3376 entries, 0 to 3375\n",
      "Data columns (total 8 columns):\n",
      " #   Column              Non-Null Count  Dtype \n",
      "---  ------              --------------  ----- \n",
      " 0   characters          3376 non-null   object\n",
      " 1   genre               3376 non-null   object\n",
      " 2   rating              3376 non-null   object\n",
      " 3   synopsis            3376 non-null   object\n",
      " 4   title               3376 non-null   object\n",
      " 5   pairing             3376 non-null   object\n",
      " 6   pairing_normalized  3376 non-null   object\n",
      " 7   tags                3376 non-null   object\n",
      "dtypes: object(8)\n",
      "memory usage: 211.1+ KB\n"
     ]
    }
   ],
   "source": [
    "new_df.info()"
   ]
  },
  {
   "cell_type": "code",
   "execution_count": 202,
   "id": "bb28c94c",
   "metadata": {
    "scrolled": true
   },
   "outputs": [
    {
     "name": "stdout",
     "output_type": "stream",
     "text": [
      "Requirement already satisfied: nltk in c:\\users\\kasle\\anaconda3\\lib\\site-packages (3.8.1)\n",
      "Requirement already satisfied: click in c:\\users\\kasle\\anaconda3\\lib\\site-packages (from nltk) (8.0.4)\n",
      "Requirement already satisfied: joblib in c:\\users\\kasle\\anaconda3\\lib\\site-packages (from nltk) (1.2.0)\n",
      "Requirement already satisfied: regex>=2021.8.3 in c:\\users\\kasle\\anaconda3\\lib\\site-packages (from nltk) (2022.7.9)\n",
      "Requirement already satisfied: tqdm in c:\\users\\kasle\\anaconda3\\lib\\site-packages (from nltk) (4.65.0)\n",
      "Requirement already satisfied: colorama in c:\\users\\kasle\\anaconda3\\lib\\site-packages (from click->nltk) (0.4.6)\n"
     ]
    }
   ],
   "source": [
    "!pip install nltk\n",
    "import nltk\n",
    "from nltk.stem.porter import PorterStemmer\n",
    "ps = PorterStemmer()"
   ]
  },
  {
   "cell_type": "code",
   "execution_count": 204,
   "id": "1b14a30c",
   "metadata": {},
   "outputs": [],
   "source": [
    "def stem(text):\n",
    "    y = []\n",
    "    for i in text.split():\n",
    "        y.append(ps.stem(i))\n",
    "    string = \" \".join(y)\n",
    "    return string\n",
    "\n",
    "def stem2(text):\n",
    "    return ps.stem(text)"
   ]
  },
  {
   "cell_type": "code",
   "execution_count": 205,
   "id": "1c9763a4",
   "metadata": {},
   "outputs": [
    {
     "data": {
      "text/plain": [
       "\"review siriusb. remusl. jamesp. regulusb. angst hurt comfort t regulu and jame aren't happi they know they can be happi with each other but regulu is uncertain whether or not he can leav behind the world he know for angel if you chang your mind\""
      ]
     },
     "execution_count": 205,
     "metadata": {},
     "output_type": "execute_result"
    }
   ],
   "source": [
    "stem(\"reviews siriusb. remusl. jamesp. regulusb. angst hurt comfort t regulus and james aren't happy  they know they can be happy with each other  but regulus is uncertain whether or not he can leave behind the world he knows  for angel  if you change your mind\")"
   ]
  },
  {
   "cell_type": "code",
   "execution_count": 206,
   "id": "07088f64",
   "metadata": {},
   "outputs": [],
   "source": [
    "new_df['tags'] = new_df['tags'].apply(stem)\n",
    "# could have just done new_df['tags'] = new_df['tags'].apply(stem2)"
   ]
  },
  {
   "cell_type": "code",
   "execution_count": 207,
   "id": "34674627",
   "metadata": {},
   "outputs": [],
   "source": [
    "from sklearn.feature_extraction.text import CountVectorizer\n",
    "cv = CountVectorizer(max_features = 5000, stop_words='english')"
   ]
  },
  {
   "cell_type": "code",
   "execution_count": 208,
   "id": "60293f97",
   "metadata": {},
   "outputs": [],
   "source": [
    "vectors = cv.fit_transform(new_df['tags']).toarray()"
   ]
  },
  {
   "cell_type": "code",
   "execution_count": 209,
   "id": "3a8f826f",
   "metadata": {},
   "outputs": [
    {
     "data": {
      "text/plain": [
       "array([[0, 0, 0, ..., 0, 0, 0],\n",
       "       [0, 0, 0, ..., 0, 0, 0],\n",
       "       [0, 0, 0, ..., 0, 0, 0],\n",
       "       ...,\n",
       "       [0, 0, 0, ..., 0, 0, 0],\n",
       "       [0, 0, 0, ..., 0, 0, 0],\n",
       "       [0, 0, 0, ..., 0, 0, 0]], dtype=int64)"
      ]
     },
     "execution_count": 209,
     "metadata": {},
     "output_type": "execute_result"
    }
   ],
   "source": [
    "vectors"
   ]
  },
  {
   "cell_type": "code",
   "execution_count": 210,
   "id": "f62dfdca",
   "metadata": {},
   "outputs": [
    {
     "data": {
      "text/plain": [
       "array(['000', '01', '02', ..., 'zoinks', 'zone', 'zoo'], dtype=object)"
      ]
     },
     "execution_count": 210,
     "metadata": {},
     "output_type": "execute_result"
    }
   ],
   "source": [
    "cv.get_feature_names_out()"
   ]
  },
  {
   "cell_type": "code",
   "execution_count": 211,
   "id": "51047a50",
   "metadata": {},
   "outputs": [],
   "source": [
    "from sklearn.metrics.pairwise import cosine_similarity"
   ]
  },
  {
   "cell_type": "code",
   "execution_count": 212,
   "id": "9df0e2cf",
   "metadata": {},
   "outputs": [],
   "source": [
    "similarity = cosine_similarity(vectors)"
   ]
  },
  {
   "cell_type": "markdown",
   "id": "f8bd4816",
   "metadata": {},
   "source": [
    "### Memory Constraints: Dataset Size Reduction\n",
    "\n",
    "Previously, the dataset was too large to process due to memory limitations so I tried to keep a fraction of the rows (in new_df2). But now, I've already filtered rows to reduce the dataset size, making it more manageable for analysis. This step has already been completed, and the dataset is now optimized for further processing."
   ]
  },
  {
   "cell_type": "code",
   "execution_count": 41,
   "id": "f1722959",
   "metadata": {},
   "outputs": [],
   "source": [
    "new_df2 = new_df.sample(frac=0.01, random_state=42).reset_index(drop=True)"
   ]
  },
  {
   "cell_type": "code",
   "execution_count": 42,
   "id": "dcc254e0",
   "metadata": {},
   "outputs": [
    {
     "data": {
      "text/plain": [
       "(5391, 7)"
      ]
     },
     "execution_count": 42,
     "metadata": {},
     "output_type": "execute_result"
    }
   ],
   "source": [
    "new_df2.shape"
   ]
  },
  {
   "cell_type": "code",
   "execution_count": 213,
   "id": "87611b15",
   "metadata": {},
   "outputs": [
    {
     "data": {
      "text/plain": [
       "(3376, 3376)"
      ]
     },
     "execution_count": 213,
     "metadata": {},
     "output_type": "execute_result"
    }
   ],
   "source": [
    "similarity.shape"
   ]
  },
  {
   "cell_type": "code",
   "execution_count": 48,
   "id": "907b14bc",
   "metadata": {},
   "outputs": [],
   "source": [
    "def recommend(fanfic):\n",
    "    fanfic_index = new_df2[new_df2['title'] == fanfic].index[0]\n",
    "    distances = similarity[fanfic_index]\n",
    "    fanfics_list = sorted(list(enumerate(distances)), reverse=True, key= lambda x:x[1])[1:6]\n",
    "    for i in fanfics_list:\n",
    "        print(i[0])\n",
    "        print(new_df2.iloc[i[0]].title)"
   ]
  },
  {
   "cell_type": "code",
   "execution_count": 49,
   "id": "a231012c",
   "metadata": {},
   "outputs": [
    {
     "data": {
      "text/plain": [
       "'The Night In The Shell Cottage'"
      ]
     },
     "execution_count": 49,
     "metadata": {},
     "output_type": "execute_result"
    }
   ],
   "source": [
    "new_df2.iloc[0].title"
   ]
  },
  {
   "cell_type": "code",
   "execution_count": 50,
   "id": "474b59c3",
   "metadata": {
    "scrolled": true
   },
   "outputs": [
    {
     "name": "stdout",
     "output_type": "stream",
     "text": [
      "4827\n",
      "The End of a Friendship\n",
      "284\n",
      "Luzes\n",
      "1930\n",
      "A Few Things She Needs To Clear Up\n",
      "803\n",
      "After Unplanned Pregnancies\n",
      "3275\n",
      "Ron Or Viktor\n"
     ]
    }
   ],
   "source": [
    "recommend('The Night In The Shell Cottage')"
   ]
  },
  {
   "cell_type": "markdown",
   "id": "a0c6bceb",
   "metadata": {},
   "source": [
    "### Optimization: Saving Top 10 Recommendations\n",
    "\n",
    "Instead of pickling the entire similarity matrix, which is too large to upload on GitHub, I will now only pickle the top 10 recommended fanfics. This will significantly reduce the file size and make it more feasible for sharing and processing."
   ]
  },
  {
   "cell_type": "code",
   "execution_count": 214,
   "id": "c97a4337",
   "metadata": {},
   "outputs": [],
   "source": [
    "import pickle"
   ]
  },
  {
   "cell_type": "code",
   "execution_count": 216,
   "id": "314e961a",
   "metadata": {},
   "outputs": [],
   "source": [
    "pickle.dump(new_df, open('fanfics.pkl', 'wb'))"
   ]
  },
  {
   "cell_type": "code",
   "execution_count": 217,
   "id": "ccc58776",
   "metadata": {},
   "outputs": [],
   "source": [
    "recommendations = []\n",
    "for fanfic_index in range(len(new_df)):\n",
    "    distances = similarity[fanfic_index]\n",
    "    fanfics_list = sorted(\n",
    "        list(enumerate(distances)), reverse=True, key=lambda x: x[1]\n",
    "    )[1:11]  # Get top 10 similar fanfics (excluding the fanfic itself)\n",
    "\n",
    "    # Store recommendations as (fanfic index, similarity score)\n",
    "    recommendations.append({\n",
    "        'fanfic': new_df.iloc[fanfic_index].title,\n",
    "        'recommendations': [\n",
    "            {'title': new_df.iloc[i[0]].title, 'score': i[1]} for i in fanfics_list\n",
    "        ]\n",
    "    })\n",
    "\n",
    "# Dump recommendations to pickle files\n",
    "\n",
    "pickle.dump(recommendations, open('recommendations_fanfic.pkl', 'wb'))"
   ]
  },
  {
   "cell_type": "code",
   "execution_count": 53,
   "id": "1c61c0df",
   "metadata": {},
   "outputs": [],
   "source": [
    "pickle.dump(similarity, open('fanfics_similarity.pkl', 'wb'))"
   ]
  }
 ],
 "metadata": {
  "kernelspec": {
   "display_name": "Python 3 (ipykernel)",
   "language": "python",
   "name": "python3"
  },
  "language_info": {
   "codemirror_mode": {
    "name": "ipython",
    "version": 3
   },
   "file_extension": ".py",
   "mimetype": "text/x-python",
   "name": "python",
   "nbconvert_exporter": "python",
   "pygments_lexer": "ipython3",
   "version": "3.11.5"
  }
 },
 "nbformat": 4,
 "nbformat_minor": 5
}
